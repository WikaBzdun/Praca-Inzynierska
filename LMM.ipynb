{
 "cells": [
  {
   "cell_type": "code",
   "execution_count": 25,
   "metadata": {},
   "outputs": [],
   "source": [
    "import pandas as pd\n",
    "import tensorflow as tf\n",
    "import tensorflow_hub as hub\n",
    "import tensorflow_datasets as tfds\n",
    "train_data, test_data = tfds.load(name=\"imdb_reviews\", split=[\"train\", \"test\"], \n",
    "                                  batch_size=-1, as_supervised=True)\n",
    "test_examples, test_labels = tfds.as_numpy(test_data)\n",
    "test_df = pd.DataFrame({'review': test_examples, 'label': test_labels})"
   ]
  },
  {
   "cell_type": "code",
   "execution_count": 26,
   "metadata": {},
   "outputs": [],
   "source": [
    "import re\n",
    "\n",
    "def clean_review(review):\n",
    "    if isinstance(review, bytes):\n",
    "        review = review.decode('utf-8')\n",
    "    if review.startswith(\"b'\") or review.startswith('b\"'):\n",
    "        review = review[2:-1]\n",
    "    review = re.sub(r\"<br\\s*/?>\", \" \", review)\n",
    "    review = review.replace(\"\\\\n\", \" \").replace(\"\\\\'\", \"'\").replace('\\\\\"', '\"')\n",
    "    return review\n",
    "\n",
    "test_df['clean_review'] = test_df['review'].apply(clean_review)\n"
   ]
  },
  {
   "cell_type": "code",
   "execution_count": 27,
   "metadata": {},
   "outputs": [
    {
     "data": {
      "text/html": [
       "<div>\n",
       "<style scoped>\n",
       "    .dataframe tbody tr th:only-of-type {\n",
       "        vertical-align: middle;\n",
       "    }\n",
       "\n",
       "    .dataframe tbody tr th {\n",
       "        vertical-align: top;\n",
       "    }\n",
       "\n",
       "    .dataframe thead th {\n",
       "        text-align: right;\n",
       "    }\n",
       "</style>\n",
       "<table border=\"1\" class=\"dataframe\">\n",
       "  <thead>\n",
       "    <tr style=\"text-align: right;\">\n",
       "      <th></th>\n",
       "      <th>review</th>\n",
       "      <th>label</th>\n",
       "      <th>clean_review</th>\n",
       "    </tr>\n",
       "  </thead>\n",
       "  <tbody>\n",
       "    <tr>\n",
       "      <th>0</th>\n",
       "      <td>b\"There are films that make careers. For George Romero, it was NIGHT OF THE LIVING DEAD; for Kevin Smith, CLERKS; for Robert Rodriguez, EL MARIACHI. Add to that list Onur Tukel's absolutely amazing DING-A-LING-LESS. Flawless film-making, and as assured and as professional as any of the aforement...</td>\n",
       "      <td>1</td>\n",
       "      <td>There are films that make careers. For George Romero, it was NIGHT OF THE LIVING DEAD; for Kevin Smith, CLERKS; for Robert Rodriguez, EL MARIACHI. Add to that list Onur Tukel's absolutely amazing DING-A-LING-LESS. Flawless film-making, and as assured and as professional as any of the aforementio...</td>\n",
       "    </tr>\n",
       "    <tr>\n",
       "      <th>1</th>\n",
       "      <td>b\"A blackly comic tale of a down-trodden priest, Nazarin showcases the economy that Luis Bunuel was able to achieve in being able to tell a deeply humanist fable with a minimum of fuss. As an output from his Mexican era of film making, it was an invaluable talent to possess, with little money an...</td>\n",
       "      <td>1</td>\n",
       "      <td>A blackly comic tale of a down-trodden priest, Nazarin showcases the economy that Luis Bunuel was able to achieve in being able to tell a deeply humanist fable with a minimum of fuss. As an output from his Mexican era of film making, it was an invaluable talent to possess, with little money and ...</td>\n",
       "    </tr>\n",
       "    <tr>\n",
       "      <th>2</th>\n",
       "      <td>b'Scary Movie 1-4, Epic Movie, Date Movie, Meet the Spartans, Not another Teen Movie and Another Gay Movie. Making \"Superhero Movie\" the eleventh in a series that single handily ruined the parody genre. Now I\\'ll admit it I have a soft spot for classics such as Airplane and The Naked Gun but you...</td>\n",
       "      <td>0</td>\n",
       "      <td>Scary Movie 1-4, Epic Movie, Date Movie, Meet the Spartans, Not another Teen Movie and Another Gay Movie. Making \"Superhero Movie\" the eleventh in a series that single handily ruined the parody genre. Now I'll admit it I have a soft spot for classics such as Airplane and The Naked Gun but you kn...</td>\n",
       "    </tr>\n",
       "    <tr>\n",
       "      <th>3</th>\n",
       "      <td>b'Poor Shirley MacLaine tries hard to lend some gravitas to this mawkish, gag-inducing \"feel-good\" movie, but she\\'s trampled by the run-away sentimentality of a film that\\'s not the least bit grounded in reality.&lt;br /&gt;&lt;br /&gt;This was directed by Curtis Hanson? Did he have a lobotomy since we las...</td>\n",
       "      <td>0</td>\n",
       "      <td>Poor Shirley MacLaine tries hard to lend some gravitas to this mawkish, gag-inducing \"feel-good\" movie, but she's trampled by the run-away sentimentality of a film that's not the least bit grounded in reality.  This was directed by Curtis Hanson? Did he have a lobotomy since we last heard from h...</td>\n",
       "    </tr>\n",
       "  </tbody>\n",
       "</table>\n",
       "</div>"
      ],
      "text/plain": [
       "                                                                                                                                                                                                                                                                                                        review  \\\n",
       "0  b\"There are films that make careers. For George Romero, it was NIGHT OF THE LIVING DEAD; for Kevin Smith, CLERKS; for Robert Rodriguez, EL MARIACHI. Add to that list Onur Tukel's absolutely amazing DING-A-LING-LESS. Flawless film-making, and as assured and as professional as any of the aforement...   \n",
       "1  b\"A blackly comic tale of a down-trodden priest, Nazarin showcases the economy that Luis Bunuel was able to achieve in being able to tell a deeply humanist fable with a minimum of fuss. As an output from his Mexican era of film making, it was an invaluable talent to possess, with little money an...   \n",
       "2  b'Scary Movie 1-4, Epic Movie, Date Movie, Meet the Spartans, Not another Teen Movie and Another Gay Movie. Making \"Superhero Movie\" the eleventh in a series that single handily ruined the parody genre. Now I\\'ll admit it I have a soft spot for classics such as Airplane and The Naked Gun but you...   \n",
       "3  b'Poor Shirley MacLaine tries hard to lend some gravitas to this mawkish, gag-inducing \"feel-good\" movie, but she\\'s trampled by the run-away sentimentality of a film that\\'s not the least bit grounded in reality.<br /><br />This was directed by Curtis Hanson? Did he have a lobotomy since we las...   \n",
       "\n",
       "   label  \\\n",
       "0      1   \n",
       "1      1   \n",
       "2      0   \n",
       "3      0   \n",
       "\n",
       "                                                                                                                                                                                                                                                                                                  clean_review  \n",
       "0  There are films that make careers. For George Romero, it was NIGHT OF THE LIVING DEAD; for Kevin Smith, CLERKS; for Robert Rodriguez, EL MARIACHI. Add to that list Onur Tukel's absolutely amazing DING-A-LING-LESS. Flawless film-making, and as assured and as professional as any of the aforementio...  \n",
       "1  A blackly comic tale of a down-trodden priest, Nazarin showcases the economy that Luis Bunuel was able to achieve in being able to tell a deeply humanist fable with a minimum of fuss. As an output from his Mexican era of film making, it was an invaluable talent to possess, with little money and ...  \n",
       "2  Scary Movie 1-4, Epic Movie, Date Movie, Meet the Spartans, Not another Teen Movie and Another Gay Movie. Making \"Superhero Movie\" the eleventh in a series that single handily ruined the parody genre. Now I'll admit it I have a soft spot for classics such as Airplane and The Naked Gun but you kn...  \n",
       "3  Poor Shirley MacLaine tries hard to lend some gravitas to this mawkish, gag-inducing \"feel-good\" movie, but she's trampled by the run-away sentimentality of a film that's not the least bit grounded in reality.  This was directed by Curtis Hanson? Did he have a lobotomy since we last heard from h...  "
      ]
     },
     "execution_count": 27,
     "metadata": {},
     "output_type": "execute_result"
    }
   ],
   "source": [
    "pd.set_option('display.max_colwidth', 300)\n",
    "test_df[:4]"
   ]
  },
  {
   "cell_type": "code",
   "execution_count": 28,
   "metadata": {},
   "outputs": [],
   "source": [
    "def create_strict_binary_prompt(review):\n",
    "    return f\"Is the sentiment of this review :'{review}'.positive or negative ? Respond with 'Positive' or 'Negative' only.\"\n",
    "\n",
    "\n",
    "test_df['prompt'] = test_df['clean_review'].apply(create_strict_binary_prompt)"
   ]
  },
  {
   "cell_type": "code",
   "execution_count": 29,
   "metadata": {},
   "outputs": [],
   "source": [
    "from concurrent.futures import ThreadPoolExecutor\n",
    "from langchain_community.llms import Ollama\n",
    "llm = Ollama(model=\"llama3.1:8b\")"
   ]
  },
  {
   "cell_type": "code",
   "execution_count": 30,
   "metadata": {},
   "outputs": [],
   "source": [
    "prompts = test_df['prompt'].tolist()\n",
    "results =[]"
   ]
  },
  {
   "cell_type": "code",
   "execution_count": 31,
   "metadata": {},
   "outputs": [],
   "source": [
    "def process_prompt ( prompt ):\n",
    "   return llm.invoke ( prompt )\n",
    "\n",
    "with ThreadPoolExecutor(max_workers=8) as executor:  \n",
    "    results = list(executor.map(process_prompt, prompts[:250]))\n",
    "\n",
    "test_df.loc[:249, 'predicted_sentiment'] = results\n",
    "\n"
   ]
  },
  {
   "cell_type": "code",
   "execution_count": 35,
   "metadata": {},
   "outputs": [
    {
     "name": "stdout",
     "output_type": "stream",
     "text": [
      "Dokładność: 91.60%\n"
     ]
    }
   ],
   "source": [
    "from sklearn.metrics import accuracy_score\n",
    "\n",
    "predicted_sentiment_numeric = [1 if sentiment == 'Positive' else  0 for sentiment in results ]\n",
    "\n",
    "accuracy = accuracy_score(test_df['label'][:250], predicted_sentiment_numeric)\n",
    "\n",
    "print(f\"Dokładność: {accuracy * 100:.2f}%\")\n"
   ]
  },
  {
   "cell_type": "code",
   "execution_count": 36,
   "metadata": {},
   "outputs": [
    {
     "name": "stdout",
     "output_type": "stream",
     "text": [
      "Precyzja: 0.90\n",
      "Czułość: 0.92\n",
      "F1-Score: 0.91\n"
     ]
    },
    {
     "data": {
      "image/png": "[encoded data removed]",
      "text/plain": [
       "<Figure size 600x500 with 2 Axes>"
      ]
     },
     "metadata": {},
     "output_type": "display_data"
    }
   ],
   "source": [
    "from sklearn.metrics import precision_score, recall_score, f1_score\n",
    "import numpy as np\n",
    "import matplotlib.pyplot as plt\n",
    "import seaborn as sns\n",
    "from sklearn.metrics import confusion_matrix\n",
    "\n",
    "# Precyzja\n",
    "precision = precision_score(test_df['label'][:250], predicted_sentiment_numeric)\n",
    "\n",
    "# Czułość\n",
    "recall = recall_score(test_df['label'][:250], predicted_sentiment_numeric)\n",
    "\n",
    "# F1-Score\n",
    "f1 = f1_score(test_df['label'][:250], predicted_sentiment_numeric)\n",
    "\n",
    "print(f\"Precyzja: {precision:.2f}\")\n",
    "print(f\"Czułość: {recall:.2f}\")\n",
    "print(f\"F1-Score: {f1:.2f}\")\n",
    "\n",
    "\n",
    "\n",
    "\n",
    "cm= confusion_matrix(test_df['label'][:250], predicted_sentiment_numeric)\n",
    "\n",
    "# Wykres macierzy \n",
    "def plot_confusion_matrix(cm):\n",
    "    plt.figure(figsize=(6, 5))\n",
    "    sns.heatmap(cm, annot=True, fmt='d', cmap='Blues', xticklabels=['Negative', 'Positive'], yticklabels=['Negative', 'Positive'])\n",
    "    plt.title('Confusion Matrix')\n",
    "    plt.xlabel('Predicted Label')\n",
    "    plt.ylabel('True Label')\n",
    "    plt.show()\n",
    "plot_confusion_matrix(cm)\n"
   ]
  },
  {
   "cell_type": "code",
   "execution_count": 37,
   "metadata": {},
   "outputs": [],
   "source": [
    "filtered_data = test_df[\n",
    "    ((test_df['label'] == 1) & (test_df['predicted_sentiment'] == 'Negative')) |\n",
    "    ((test_df['label'] == 0) & (test_df['predicted_sentiment'] == 'Positive'))\n",
    "]\n",
    "filtered_data\n",
    "\n",
    "filtered_data.to_csv('Blednie_zaklasyfikowane_Recenzje_LLM.csv', sep=';', encoding='utf-8', index=False)\n"
   ]
  },
  {
   "cell_type": "code",
   "execution_count": 38,
   "metadata": {},
   "outputs": [
    {
     "data": {
      "text/html": [
       "<style type=\"text/css\">\n",
       "#T_9d6e6_row0_col0, #T_9d6e6_row0_col1, #T_9d6e6_row0_col2 {\n",
       "  white-space: pre-wrap;\n",
       "}\n",
       "</style>\n",
       "<table id=\"T_9d6e6\">\n",
       "  <thead>\n",
       "    <tr>\n",
       "      <th class=\"blank level0\" >&nbsp;</th>\n",
       "      <th id=\"T_9d6e6_level0_col0\" class=\"col_heading level0 col0\" >review</th>\n",
       "      <th id=\"T_9d6e6_level0_col1\" class=\"col_heading level0 col1\" >label</th>\n",
       "      <th id=\"T_9d6e6_level0_col2\" class=\"col_heading level0 col2\" >predicted_sentiment</th>\n",
       "    </tr>\n",
       "  </thead>\n",
       "  <tbody>\n",
       "    <tr>\n",
       "      <th id=\"T_9d6e6_level0_row0\" class=\"row_heading level0 row0\" >8</th>\n",
       "      <td id=\"T_9d6e6_row0_col0\" class=\"data row0 col0\" >b'As long as you keep in mind that the production of this movie was a copyright ploy, and not intended as a serious release, it is actually surprising how not absolutely horrible it is. I even liked the theme music.<br /><br />And if ever a flick cried out for a treatment by Joel (or Mike) and the MST3K Bots, this is it! Watch this with a bunch of smart-ass wise-crackers, and you\\'re in for a good time. Have a brew, butter up some large pretzels, and enjoy.<br /><br />Of course, obtaining a copy requires buying a bootleg or downloading it as shareware, but if you\\'re here on the IMDb, then you\\'re most likely savvy enough to do so. Good luck.<br /><br />And look for my favorite part....where Dr. Doom informs the FF that they have 12 hours to comply with his wishes....and he actually gestures the number \"12\" with his finger while doing so....it\\'s like \"Evil Sesame Street\"....hoo boy.<br /><br />...and of course Mrs. Storm declaring \"Just look at you....the Fanstastic Four\" is just so heartwarming....you\\'ll laugh, you\\'ll cry.....<br /><br />So if you love schlocky Sci-Fi, this one\\'s Fantastic For you!'</td>\n",
       "      <td id=\"T_9d6e6_row0_col1\" class=\"data row0 col1\" >0</td>\n",
       "      <td id=\"T_9d6e6_row0_col2\" class=\"data row0 col2\" >Positive</td>\n",
       "    </tr>\n",
       "  </tbody>\n",
       "</table>\n"
      ],
      "text/plain": [
       "<pandas.io.formats.style.Styler at 0x222470aede0>"
      ]
     },
     "execution_count": 38,
     "metadata": {},
     "output_type": "execute_result"
    }
   ],
   "source": [
    "\n",
    "\n",
    "pd.set_option('display.max_colwidth', 300)\n",
    "filtered_data = filtered_data.loc[[8], ['review', 'label', 'predicted_sentiment']]\n",
    "filtered_data\n",
    "filtered_data.style.set_properties(**{'white-space': 'pre-wrap'})"
   ]
  },
  {
   "cell_type": "markdown",
   "metadata": {},
   "source": [
    "Model gpt-3.5-turbo"
   ]
  },
  {
   "cell_type": "code",
   "execution_count": 36,
   "metadata": {},
   "outputs": [],
   "source": [
    "import os\n",
    "from openai import OpenAI\n",
    "\n",
    "\n",
    "client = OpenAI(\n",
    "    api_key=os.environ.get(\"OPENAI_API_KEY\")  \n",
    ")\n",
    "\n",
    "#Funkcja do przetwarzania promptów\n",
    "def process_prompt(prompt):\n",
    "    try:\n",
    "        chat_completion = client.chat.completions.create(\n",
    "            messages=[\n",
    "                {\"role\": \"system\", \"content\": \"You are a helpful assistant specializing in sentiment analysis.\"},\n",
    "                {\"role\": \"user\", \"content\": prompt}\n",
    "            ],\n",
    "            model=\"gpt-3.5-turbo\",\n",
    "        )\n",
    "        # Zwracamy odpowiedź modelu\n",
    "        return chat_completion.choices[0].message.content.strip()\n",
    "    except Exception as e:\n",
    "        print(f\"Error processing prompt: {e}\")\n",
    "        return \"Error\"\n",
    "#Przetwarzanie\n",
    "results = [process_prompt(prompt) for prompt in prompts[:2500]]\n",
    "test_df.loc[:2499, 'predicted_sentiment'] = results"
   ]
  },
  {
   "cell_type": "code",
   "execution_count": 41,
   "metadata": {},
   "outputs": [
    {
     "name": "stdout",
     "output_type": "stream",
     "text": [
      "Dokładność: 93.80%\n"
     ]
    }
   ],
   "source": [
    "from sklearn.metrics import accuracy_score\n",
    "\n",
    "predicted_sentiment_numeric = [1 if sentiment == 'Positive' else  0 for sentiment in results ]\n",
    "\n",
    "accuracy = accuracy_score(test_df['label'][:2500], predicted_sentiment_numeric)\n",
    "\n",
    "print(f\"Dokładność: {accuracy * 100:.2f}%\")"
   ]
  },
  {
   "cell_type": "code",
   "execution_count": 42,
   "metadata": {},
   "outputs": [
    {
     "name": "stdout",
     "output_type": "stream",
     "text": [
      "Precyzja: 0.94\n",
      "Czułość: 0.94\n",
      "F1-Score: 0.94\n"
     ]
    },
    {
     "data": {
      "image/png": "[encoded data removed]",
      "text/plain": [
       "<Figure size 600x500 with 2 Axes>"
      ]
     },
     "metadata": {},
     "output_type": "display_data"
    }
   ],
   "source": [
    "from sklearn.metrics import precision_score, recall_score, f1_score\n",
    "import numpy as np\n",
    "import matplotlib.pyplot as plt\n",
    "import seaborn as sns\n",
    "from sklearn.metrics import confusion_matrix\n",
    "\n",
    "#Precyzja\n",
    "precision = precision_score(test_df['label'][:2500], predicted_sentiment_numeric)\n",
    "#Czułość\n",
    "recall = recall_score(test_df['label'][:2500], predicted_sentiment_numeric)\n",
    "#F1-Score\n",
    "f1 = f1_score(test_df['label'][:2500], predicted_sentiment_numeric)\n",
    "\n",
    "print(f\"Precyzja: {precision:.2f}\")\n",
    "print(f\"Czułość: {recall:.2f}\")\n",
    "print(f\"F1-Score: {f1:.2f}\")\n",
    "\n",
    "\n",
    "\n",
    "\n",
    "cm= confusion_matrix(test_df['label'][:2500], predicted_sentiment_numeric)\n",
    "\n",
    "# Wykres macierzy \n",
    "def plot_confusion_matrix(cm):\n",
    "    plt.figure(figsize=(6, 5))\n",
    "    sns.heatmap(cm, annot=True, fmt='d', cmap='Blues', xticklabels=['Negative', 'Positive'], yticklabels=['Negative', 'Positive'])\n",
    "    plt.title('Confusion Matrix')\n",
    "    plt.xlabel('Predicted Label')\n",
    "    plt.ylabel('True Label')\n",
    "    plt.show()\n",
    "plot_confusion_matrix(cm)\n"
   ]
  },
  {
   "cell_type": "code",
   "execution_count": 45,
   "metadata": {},
   "outputs": [
    {
     "data": {
      "text/html": [
       "<style type=\"text/css\">\n",
       "#T_c5977_row0_col0, #T_c5977_row0_col1, #T_c5977_row0_col2 {\n",
       "  white-space: pre-wrap;\n",
       "}\n",
       "</style>\n",
       "<table id=\"T_c5977\">\n",
       "  <thead>\n",
       "    <tr>\n",
       "      <th class=\"blank level0\" >&nbsp;</th>\n",
       "      <th id=\"T_c5977_level0_col0\" class=\"col_heading level0 col0\" >review</th>\n",
       "      <th id=\"T_c5977_level0_col1\" class=\"col_heading level0 col1\" >label</th>\n",
       "      <th id=\"T_c5977_level0_col2\" class=\"col_heading level0 col2\" >predicted_sentiment</th>\n",
       "    </tr>\n",
       "  </thead>\n",
       "  <tbody>\n",
       "    <tr>\n",
       "      <th id=\"T_c5977_level0_row0\" class=\"row_heading level0 row0\" >8</th>\n",
       "      <td id=\"T_c5977_row0_col0\" class=\"data row0 col0\" >b'As long as you keep in mind that the production of this movie was a copyright ploy, and not intended as a serious release, it is actually surprising how not absolutely horrible it is. I even liked the theme music.<br /><br />And if ever a flick cried out for a treatment by Joel (or Mike) and the MST3K Bots, this is it! Watch this with a bunch of smart-ass wise-crackers, and you\\'re in for a good time. Have a brew, butter up some large pretzels, and enjoy.<br /><br />Of course, obtaining a copy requires buying a bootleg or downloading it as shareware, but if you\\'re here on the IMDb, then you\\'re most likely savvy enough to do so. Good luck.<br /><br />And look for my favorite part....where Dr. Doom informs the FF that they have 12 hours to comply with his wishes....and he actually gestures the number \"12\" with his finger while doing so....it\\'s like \"Evil Sesame Street\"....hoo boy.<br /><br />...and of course Mrs. Storm declaring \"Just look at you....the Fanstastic Four\" is just so heartwarming....you\\'ll laugh, you\\'ll cry.....<br /><br />So if you love schlocky Sci-Fi, this one\\'s Fantastic For you!'</td>\n",
       "      <td id=\"T_c5977_row0_col1\" class=\"data row0 col1\" >0</td>\n",
       "      <td id=\"T_c5977_row0_col2\" class=\"data row0 col2\" >Positive</td>\n",
       "    </tr>\n",
       "  </tbody>\n",
       "</table>\n"
      ],
      "text/plain": [
       "<pandas.io.formats.style.Styler at 0x1eccf1fe390>"
      ]
     },
     "execution_count": 45,
     "metadata": {},
     "output_type": "execute_result"
    }
   ],
   "source": [
    "filtered_data = test_df[\n",
    "    ((test_df['label'] == 1) & (test_df['predicted_sentiment'] == 'Negative')) |\n",
    "    ((test_df['label'] == 0) & (test_df['predicted_sentiment'] == 'Positive'))\n",
    "]\n",
    "pd.set_option('display.max_colwidth', 300)\n",
    "filtered_data = filtered_data.loc[[8], ['review', 'label', 'predicted_sentiment']]\n",
    "filtered_data\n",
    "filtered_data.style.set_properties(**{'white-space': 'pre-wrap'})\n"
   ]
  },
  {
   "cell_type": "code",
   "execution_count": 44,
   "metadata": {},
   "outputs": [
    {
     "data": {
      "text/html": [
       "<div>\n",
       "<style scoped>\n",
       "    .dataframe tbody tr th:only-of-type {\n",
       "        vertical-align: middle;\n",
       "    }\n",
       "\n",
       "    .dataframe tbody tr th {\n",
       "        vertical-align: top;\n",
       "    }\n",
       "\n",
       "    .dataframe thead th {\n",
       "        text-align: right;\n",
       "    }\n",
       "</style>\n",
       "<table border=\"1\" class=\"dataframe\">\n",
       "  <thead>\n",
       "    <tr style=\"text-align: right;\">\n",
       "      <th></th>\n",
       "      <th>review</th>\n",
       "      <th>label</th>\n",
       "      <th>clean_review</th>\n",
       "      <th>prompt</th>\n",
       "      <th>predicted_sentiment</th>\n",
       "    </tr>\n",
       "  </thead>\n",
       "  <tbody>\n",
       "    <tr>\n",
       "      <th>8</th>\n",
       "      <td>b'As long as you keep in mind that the production of this movie was a copyright ploy, and not intended as a serious release, it is actually surprising how not absolutely horrible it is. I even liked the theme music.&lt;br /&gt;&lt;br /&gt;And if ever a flick cried out for a treatment by Joel (or Mike) and t...</td>\n",
       "      <td>0</td>\n",
       "      <td>As long as you keep in mind that the production of this movie was a copyright ploy, and not intended as a serious release, it is actually surprising how not absolutely horrible it is. I even liked the theme music.  And if ever a flick cried out for a treatment by Joel (or Mike) and the MST3K Bot...</td>\n",
       "      <td>Is the sentiment of this review :'As long as you keep in mind that the production of this movie was a copyright ploy, and not intended as a serious release, it is actually surprising how not absolutely horrible it is. I even liked the theme music.  And if ever a flick cried out for a treatment b...</td>\n",
       "      <td>Positive</td>\n",
       "    </tr>\n",
       "    <tr>\n",
       "      <th>13</th>\n",
       "      <td>b'I saw this movie as part of a Billy Graham program. The church I attend was part of a community wide outreach to present God and Christianity to our community (Hartford, Ct. USA). I was one of the counselors who helped attendees (who were invited to come forward and make whatever kind of relig...</td>\n",
       "      <td>0</td>\n",
       "      <td>I saw this movie as part of a Billy Graham program. The church I attend was part of a community wide outreach to present God and Christianity to our community (Hartford, Ct. USA). I was one of the counselors who helped attendees (who were invited to come forward and make whatever kind of religio...</td>\n",
       "      <td>Is the sentiment of this review :'I saw this movie as part of a Billy Graham program. The church I attend was part of a community wide outreach to present God and Christianity to our community (Hartford, Ct. USA). I was one of the counselors who helped attendees (who were invited to come forward...</td>\n",
       "      <td>Positive</td>\n",
       "    </tr>\n",
       "    <tr>\n",
       "      <th>30</th>\n",
       "      <td>b'Well, I have to disagree with Leonard Maltin on this animated short. He loves it and claimed it was hilarious. I enjoyed it but didn\\'t see any humor. He doesn\\'t even like hockey or know anything about it, and still loved the story. Living right across the border from Canada, I have watched h...</td>\n",
       "      <td>1</td>\n",
       "      <td>Well, I have to disagree with Leonard Maltin on this animated short. He loves it and claimed it was hilarious. I enjoyed it but didn't see any humor. He doesn't even like hockey or know anything about it, and still loved the story. Living right across the border from Canada, I have watched hocke...</td>\n",
       "      <td>Is the sentiment of this review :'Well, I have to disagree with Leonard Maltin on this animated short. He loves it and claimed it was hilarious. I enjoyed it but didn't see any humor. He doesn't even like hockey or know anything about it, and still loved the story. Living right across the border...</td>\n",
       "      <td>Negative</td>\n",
       "    </tr>\n",
       "    <tr>\n",
       "      <th>40</th>\n",
       "      <td>b'This game is not exactly the best N64 game ever. Sure, it\\'s good, but only when there\\'s 4 players. Without 4 players, the only fun thing to do is take remote mines and see how many people you can kill. But half of this game are levels where you have to save Natalya, so you\\'ll have to limit ...</td>\n",
       "      <td>1</td>\n",
       "      <td>This game is not exactly the best N64 game ever. Sure, it's good, but only when there's 4 players. Without 4 players, the only fun thing to do is take remote mines and see how many people you can kill. But half of this game are levels where you have to save Natalya, so you'll have to limit your ...</td>\n",
       "      <td>Is the sentiment of this review :'This game is not exactly the best N64 game ever. Sure, it's good, but only when there's 4 players. Without 4 players, the only fun thing to do is take remote mines and see how many people you can kill. But half of this game are levels where you have to save Nata...</td>\n",
       "      <td>Negative</td>\n",
       "    </tr>\n",
       "    <tr>\n",
       "      <th>47</th>\n",
       "      <td>b\"I cannot understand the need to jump backwards and forwards to scene set, and pad out the plot. Showing that someone has a skill right before they use it, I believe, is offending our intelligence. It's starting to feel a little contrived, and as though they are making up for being so vague for...</td>\n",
       "      <td>1</td>\n",
       "      <td>I cannot understand the need to jump backwards and forwards to scene set, and pad out the plot. Showing that someone has a skill right before they use it, I believe, is offending our intelligence. It's starting to feel a little contrived, and as though they are making up for being so vague for t...</td>\n",
       "      <td>Is the sentiment of this review :'I cannot understand the need to jump backwards and forwards to scene set, and pad out the plot. Showing that someone has a skill right before they use it, I believe, is offending our intelligence. It's starting to feel a little contrived, and as though they are ...</td>\n",
       "      <td>Negative</td>\n",
       "    </tr>\n",
       "    <tr>\n",
       "      <th>...</th>\n",
       "      <td>...</td>\n",
       "      <td>...</td>\n",
       "      <td>...</td>\n",
       "      <td>...</td>\n",
       "      <td>...</td>\n",
       "    </tr>\n",
       "    <tr>\n",
       "      <th>2464</th>\n",
       "      <td>b'I saw this originally on Channel 4 (UK) and it was a fantastic film that left a great impression on me. However I saw it on Irish TV recently and there was an added narration by Roy Scheider (\"we\\'re going to need a bigger boat!\"). This ruined the film for me. His droning monologue adds absolu...</td>\n",
       "      <td>1</td>\n",
       "      <td>I saw this originally on Channel 4 (UK) and it was a fantastic film that left a great impression on me. However I saw it on Irish TV recently and there was an added narration by Roy Scheider (\"we're going to need a bigger boat!\"). This ruined the film for me. His droning monologue adds absolutel...</td>\n",
       "      <td>Is the sentiment of this review :'I saw this originally on Channel 4 (UK) and it was a fantastic film that left a great impression on me. However I saw it on Irish TV recently and there was an added narration by Roy Scheider (\"we're going to need a bigger boat!\"). This ruined the film for me. Hi...</td>\n",
       "      <td>Negative</td>\n",
       "    </tr>\n",
       "    <tr>\n",
       "      <th>2469</th>\n",
       "      <td>b\"Directed by Diane Keaton and adapted from a book by Franz Lidz. A young mother Selma Lidz(Andie MacDowell)is battling a very serious illness and her self proclaimed inventor husband Sid(John Tururro)is a little lacking in the emotions department. Unhappy with the new home situation, their sens...</td>\n",
       "      <td>0</td>\n",
       "      <td>Directed by Diane Keaton and adapted from a book by Franz Lidz. A young mother Selma Lidz(Andie MacDowell)is battling a very serious illness and her self proclaimed inventor husband Sid(John Tururro)is a little lacking in the emotions department. Unhappy with the new home situation, their sensit...</td>\n",
       "      <td>Is the sentiment of this review :'Directed by Diane Keaton and adapted from a book by Franz Lidz. A young mother Selma Lidz(Andie MacDowell)is battling a very serious illness and her self proclaimed inventor husband Sid(John Tururro)is a little lacking in the emotions department. Unhappy with th...</td>\n",
       "      <td>Positive</td>\n",
       "    </tr>\n",
       "    <tr>\n",
       "      <th>2473</th>\n",
       "      <td>b'This movie is quite better than the first one \"Ast\\xc3\\xa9rix et Obelix contre C\\xc3\\xa9sar\", but it is far away from perfection. The adaptation of the comic book is good, some of the pictures and the dialogs of the movie are the same as in the book. But there\\'s few things that made the movie...</td>\n",
       "      <td>1</td>\n",
       "      <td>This movie is quite better than the first one \"Astérix et Obelix contre César\", but it is far away from perfection. The adaptation of the comic book is good, some of the pictures and the dialogs of the movie are the same as in the book. But there's few things that made the movie not as interrest...</td>\n",
       "      <td>Is the sentiment of this review :'This movie is quite better than the first one \"Astérix et Obelix contre César\", but it is far away from perfection. The adaptation of the comic book is good, some of the pictures and the dialogs of the movie are the same as in the book. But there's few things th...</td>\n",
       "      <td>Negative</td>\n",
       "    </tr>\n",
       "    <tr>\n",
       "      <th>2486</th>\n",
       "      <td>b\"This was a very good PPV, but like Wrestlemania XX some 14 years later, the WWE crammed so many matches on it, some of the matches were useless. I'm not going to go through every match on the card because it would take forever to do.&lt;br /&gt;&lt;br /&gt;However major highlights included the HUGE pop fo...</td>\n",
       "      <td>1</td>\n",
       "      <td>This was a very good PPV, but like Wrestlemania XX some 14 years later, the WWE crammed so many matches on it, some of the matches were useless. I'm not going to go through every match on the card because it would take forever to do.  However major highlights included the HUGE pop for Demolition...</td>\n",
       "      <td>Is the sentiment of this review :'This was a very good PPV, but like Wrestlemania XX some 14 years later, the WWE crammed so many matches on it, some of the matches were useless. I'm not going to go through every match on the card because it would take forever to do.  However major highlights in...</td>\n",
       "      <td>Negative</td>\n",
       "    </tr>\n",
       "    <tr>\n",
       "      <th>2499</th>\n",
       "      <td>b'Low budget mystery. A shot rattles out of the dark and a woman is seen running from that direction. A young architect Jimmy McMillan(Chick Chandler)discovers a dead body that goes missing. The woman in a hurry, Mary(June Clyde), is linked to the death scene; but it is McMillan that has to try ...</td>\n",
       "      <td>0</td>\n",
       "      <td>Low budget mystery. A shot rattles out of the dark and a woman is seen running from that direction. A young architect Jimmy McMillan(Chick Chandler)discovers a dead body that goes missing. The woman in a hurry, Mary(June Clyde), is linked to the death scene; but it is McMillan that has to try an...</td>\n",
       "      <td>Is the sentiment of this review :'Low budget mystery. A shot rattles out of the dark and a woman is seen running from that direction. A young architect Jimmy McMillan(Chick Chandler)discovers a dead body that goes missing. The woman in a hurry, Mary(June Clyde), is linked to the death scene; but...</td>\n",
       "      <td>Positive</td>\n",
       "    </tr>\n",
       "  </tbody>\n",
       "</table>\n",
       "<p>144 rows × 5 columns</p>\n",
       "</div>"
      ],
      "text/plain": [
       "                                                                                                                                                                                                                                                                                                           review  \\\n",
       "8     b'As long as you keep in mind that the production of this movie was a copyright ploy, and not intended as a serious release, it is actually surprising how not absolutely horrible it is. I even liked the theme music.<br /><br />And if ever a flick cried out for a treatment by Joel (or Mike) and t...   \n",
       "13    b'I saw this movie as part of a Billy Graham program. The church I attend was part of a community wide outreach to present God and Christianity to our community (Hartford, Ct. USA). I was one of the counselors who helped attendees (who were invited to come forward and make whatever kind of relig...   \n",
       "30    b'Well, I have to disagree with Leonard Maltin on this animated short. He loves it and claimed it was hilarious. I enjoyed it but didn\\'t see any humor. He doesn\\'t even like hockey or know anything about it, and still loved the story. Living right across the border from Canada, I have watched h...   \n",
       "40    b'This game is not exactly the best N64 game ever. Sure, it\\'s good, but only when there\\'s 4 players. Without 4 players, the only fun thing to do is take remote mines and see how many people you can kill. But half of this game are levels where you have to save Natalya, so you\\'ll have to limit ...   \n",
       "47    b\"I cannot understand the need to jump backwards and forwards to scene set, and pad out the plot. Showing that someone has a skill right before they use it, I believe, is offending our intelligence. It's starting to feel a little contrived, and as though they are making up for being so vague for...   \n",
       "...                                                                                                                                                                                                                                                                                                           ...   \n",
       "2464  b'I saw this originally on Channel 4 (UK) and it was a fantastic film that left a great impression on me. However I saw it on Irish TV recently and there was an added narration by Roy Scheider (\"we\\'re going to need a bigger boat!\"). This ruined the film for me. His droning monologue adds absolu...   \n",
       "2469  b\"Directed by Diane Keaton and adapted from a book by Franz Lidz. A young mother Selma Lidz(Andie MacDowell)is battling a very serious illness and her self proclaimed inventor husband Sid(John Tururro)is a little lacking in the emotions department. Unhappy with the new home situation, their sens...   \n",
       "2473  b'This movie is quite better than the first one \"Ast\\xc3\\xa9rix et Obelix contre C\\xc3\\xa9sar\", but it is far away from perfection. The adaptation of the comic book is good, some of the pictures and the dialogs of the movie are the same as in the book. But there\\'s few things that made the movie...   \n",
       "2486  b\"This was a very good PPV, but like Wrestlemania XX some 14 years later, the WWE crammed so many matches on it, some of the matches were useless. I'm not going to go through every match on the card because it would take forever to do.<br /><br />However major highlights included the HUGE pop fo...   \n",
       "2499  b'Low budget mystery. A shot rattles out of the dark and a woman is seen running from that direction. A young architect Jimmy McMillan(Chick Chandler)discovers a dead body that goes missing. The woman in a hurry, Mary(June Clyde), is linked to the death scene; but it is McMillan that has to try ...   \n",
       "\n",
       "      label  \\\n",
       "8         0   \n",
       "13        0   \n",
       "30        1   \n",
       "40        1   \n",
       "47        1   \n",
       "...     ...   \n",
       "2464      1   \n",
       "2469      0   \n",
       "2473      1   \n",
       "2486      1   \n",
       "2499      0   \n",
       "\n",
       "                                                                                                                                                                                                                                                                                                     clean_review  \\\n",
       "8     As long as you keep in mind that the production of this movie was a copyright ploy, and not intended as a serious release, it is actually surprising how not absolutely horrible it is. I even liked the theme music.  And if ever a flick cried out for a treatment by Joel (or Mike) and the MST3K Bot...   \n",
       "13    I saw this movie as part of a Billy Graham program. The church I attend was part of a community wide outreach to present God and Christianity to our community (Hartford, Ct. USA). I was one of the counselors who helped attendees (who were invited to come forward and make whatever kind of religio...   \n",
       "30    Well, I have to disagree with Leonard Maltin on this animated short. He loves it and claimed it was hilarious. I enjoyed it but didn't see any humor. He doesn't even like hockey or know anything about it, and still loved the story. Living right across the border from Canada, I have watched hocke...   \n",
       "40    This game is not exactly the best N64 game ever. Sure, it's good, but only when there's 4 players. Without 4 players, the only fun thing to do is take remote mines and see how many people you can kill. But half of this game are levels where you have to save Natalya, so you'll have to limit your ...   \n",
       "47    I cannot understand the need to jump backwards and forwards to scene set, and pad out the plot. Showing that someone has a skill right before they use it, I believe, is offending our intelligence. It's starting to feel a little contrived, and as though they are making up for being so vague for t...   \n",
       "...                                                                                                                                                                                                                                                                                                           ...   \n",
       "2464  I saw this originally on Channel 4 (UK) and it was a fantastic film that left a great impression on me. However I saw it on Irish TV recently and there was an added narration by Roy Scheider (\"we're going to need a bigger boat!\"). This ruined the film for me. His droning monologue adds absolutel...   \n",
       "2469  Directed by Diane Keaton and adapted from a book by Franz Lidz. A young mother Selma Lidz(Andie MacDowell)is battling a very serious illness and her self proclaimed inventor husband Sid(John Tururro)is a little lacking in the emotions department. Unhappy with the new home situation, their sensit...   \n",
       "2473  This movie is quite better than the first one \"Astérix et Obelix contre César\", but it is far away from perfection. The adaptation of the comic book is good, some of the pictures and the dialogs of the movie are the same as in the book. But there's few things that made the movie not as interrest...   \n",
       "2486  This was a very good PPV, but like Wrestlemania XX some 14 years later, the WWE crammed so many matches on it, some of the matches were useless. I'm not going to go through every match on the card because it would take forever to do.  However major highlights included the HUGE pop for Demolition...   \n",
       "2499  Low budget mystery. A shot rattles out of the dark and a woman is seen running from that direction. A young architect Jimmy McMillan(Chick Chandler)discovers a dead body that goes missing. The woman in a hurry, Mary(June Clyde), is linked to the death scene; but it is McMillan that has to try an...   \n",
       "\n",
       "                                                                                                                                                                                                                                                                                                           prompt  \\\n",
       "8     Is the sentiment of this review :'As long as you keep in mind that the production of this movie was a copyright ploy, and not intended as a serious release, it is actually surprising how not absolutely horrible it is. I even liked the theme music.  And if ever a flick cried out for a treatment b...   \n",
       "13    Is the sentiment of this review :'I saw this movie as part of a Billy Graham program. The church I attend was part of a community wide outreach to present God and Christianity to our community (Hartford, Ct. USA). I was one of the counselors who helped attendees (who were invited to come forward...   \n",
       "30    Is the sentiment of this review :'Well, I have to disagree with Leonard Maltin on this animated short. He loves it and claimed it was hilarious. I enjoyed it but didn't see any humor. He doesn't even like hockey or know anything about it, and still loved the story. Living right across the border...   \n",
       "40    Is the sentiment of this review :'This game is not exactly the best N64 game ever. Sure, it's good, but only when there's 4 players. Without 4 players, the only fun thing to do is take remote mines and see how many people you can kill. But half of this game are levels where you have to save Nata...   \n",
       "47    Is the sentiment of this review :'I cannot understand the need to jump backwards and forwards to scene set, and pad out the plot. Showing that someone has a skill right before they use it, I believe, is offending our intelligence. It's starting to feel a little contrived, and as though they are ...   \n",
       "...                                                                                                                                                                                                                                                                                                           ...   \n",
       "2464  Is the sentiment of this review :'I saw this originally on Channel 4 (UK) and it was a fantastic film that left a great impression on me. However I saw it on Irish TV recently and there was an added narration by Roy Scheider (\"we're going to need a bigger boat!\"). This ruined the film for me. Hi...   \n",
       "2469  Is the sentiment of this review :'Directed by Diane Keaton and adapted from a book by Franz Lidz. A young mother Selma Lidz(Andie MacDowell)is battling a very serious illness and her self proclaimed inventor husband Sid(John Tururro)is a little lacking in the emotions department. Unhappy with th...   \n",
       "2473  Is the sentiment of this review :'This movie is quite better than the first one \"Astérix et Obelix contre César\", but it is far away from perfection. The adaptation of the comic book is good, some of the pictures and the dialogs of the movie are the same as in the book. But there's few things th...   \n",
       "2486  Is the sentiment of this review :'This was a very good PPV, but like Wrestlemania XX some 14 years later, the WWE crammed so many matches on it, some of the matches were useless. I'm not going to go through every match on the card because it would take forever to do.  However major highlights in...   \n",
       "2499  Is the sentiment of this review :'Low budget mystery. A shot rattles out of the dark and a woman is seen running from that direction. A young architect Jimmy McMillan(Chick Chandler)discovers a dead body that goes missing. The woman in a hurry, Mary(June Clyde), is linked to the death scene; but...   \n",
       "\n",
       "     predicted_sentiment  \n",
       "8               Positive  \n",
       "13              Positive  \n",
       "30              Negative  \n",
       "40              Negative  \n",
       "47              Negative  \n",
       "...                  ...  \n",
       "2464            Negative  \n",
       "2469            Positive  \n",
       "2473            Negative  \n",
       "2486            Negative  \n",
       "2499            Positive  \n",
       "\n",
       "[144 rows x 5 columns]"
      ]
     },
     "execution_count": 44,
     "metadata": {},
     "output_type": "execute_result"
    }
   ],
   "source": [
    "filtered_data"
   ]
  },
  {
   "cell_type": "code",
   "execution_count": 30,
   "metadata": {},
   "outputs": [
    {
     "data": {
      "text/html": [
       "<style type=\"text/css\">\n",
       "#T_8dc27_row0_col0, #T_8dc27_row0_col1, #T_8dc27_row0_col2 {\n",
       "  white-space: pre-wrap;\n",
       "}\n",
       "</style>\n",
       "<table id=\"T_8dc27\">\n",
       "  <thead>\n",
       "    <tr>\n",
       "      <th class=\"blank level0\" >&nbsp;</th>\n",
       "      <th id=\"T_8dc27_level0_col0\" class=\"col_heading level0 col0\" >review</th>\n",
       "      <th id=\"T_8dc27_level0_col1\" class=\"col_heading level0 col1\" >label</th>\n",
       "      <th id=\"T_8dc27_level0_col2\" class=\"col_heading level0 col2\" >predicted_sentiment</th>\n",
       "    </tr>\n",
       "  </thead>\n",
       "  <tbody>\n",
       "    <tr>\n",
       "      <th id=\"T_8dc27_level0_row0\" class=\"row_heading level0 row0\" >32</th>\n",
       "      <td id=\"T_8dc27_row0_col0\" class=\"data row0 col0\" >b'You know the saying \"Curiosity Killed The Cat\"? Well, I have heard so much about this film, from a magazine that named this one of the most shocking movies of all time, my 1001 movies you must see before you die, my sister who saw this at a film festival, and the I love the 70\\'s show on VH1. I just had to see this movie since it was named the grossest movie of all time, and well, after viewing this film last night, I have to say that it really did live up to it\\'s title. My God, this movie was so weird! I thought I really did see it all with some of the sickest movies and TV shows I\\'ve seen, some things I guess will always still feel like a shock.<br /><br />Well, Babs Johnson, aka Divine, has been named the filthiest person alive and a jealous couple named the Marbles are competing for that title. They want to take Divine out and be named the filthiest couple alive by kidnapping women, raping them, impregnating them, and selling their babies to lesbian couples. But it seems like Divine and her family of well... I don\\'t know, seems to keep the title by having sex with chickens, butt lip syncing, eating dog feces, stuffing meat up their skirts, incest, and it just gets grosser and grosser.<br /><br />Pink Flamingos is horribly acted, horribly made, and well, just plain horrible. The reason for the 10 rating I\\'m going to give it is due to the fact, well, how could you rate this film? I always rate, so I just figure what the heck? Through the grossness of this film, you have got to give John Waters some credit, who the heck would ever think of this movie over 35 years later? To the cast and crew who worked on this film, you guys are just plain nasty!<br /><br />10/10'</td>\n",
       "      <td id=\"T_8dc27_row0_col1\" class=\"data row0 col1\" >1</td>\n",
       "      <td id=\"T_8dc27_row0_col2\" class=\"data row0 col2\" >Negative</td>\n",
       "    </tr>\n",
       "  </tbody>\n",
       "</table>\n"
      ],
      "text/plain": [
       "<pandas.io.formats.style.Styler at 0x1eccec2fef0>"
      ]
     },
     "execution_count": 30,
     "metadata": {},
     "output_type": "execute_result"
    }
   ],
   "source": [
    "pd.set_option('display.max_colwidth', 300)\n",
    "filtered_data = filtered_data.loc[[32], ['review', 'label', 'predicted_sentiment']]\n",
    "filtered_data\n",
    "filtered_data.style.set_properties(**{'white-space': 'pre-wrap'})"
   ]
  }
 ],
 "metadata": {
  "kernelspec": {
   "display_name": "Python 3",
   "language": "python",
   "name": "python3"
  },
  "language_info": {
   "codemirror_mode": {
    "name": "ipython",
    "version": 3
   },
   "file_extension": ".py",
   "mimetype": "text/x-python",
   "name": "python",
   "nbconvert_exporter": "python",
   "pygments_lexer": "ipython3",
   "version": "3.12.3"
  }
 },
 "nbformat": 4,
 "nbformat_minor": 2
}
